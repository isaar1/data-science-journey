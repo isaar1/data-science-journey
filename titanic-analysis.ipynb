{
 "cells": [
  {
   "cell_type": "code",
   "execution_count": 1,
   "id": "2b4143b8",
   "metadata": {
    "_cell_guid": "b1076dfc-b9ad-4769-8c92-a6c4dae69d19",
    "_uuid": "8f2839f25d086af736a60e9eeb907d3b93b6e0e5",
    "execution": {
     "iopub.execute_input": "2025-03-24T17:27:48.351163Z",
     "iopub.status.busy": "2025-03-24T17:27:48.350721Z",
     "iopub.status.idle": "2025-03-24T17:27:49.354367Z",
     "shell.execute_reply": "2025-03-24T17:27:49.353009Z"
    },
    "papermill": {
     "duration": 1.011687,
     "end_time": "2025-03-24T17:27:49.356249",
     "exception": false,
     "start_time": "2025-03-24T17:27:48.344562",
     "status": "completed"
    },
    "tags": []
   },
   "outputs": [
    {
     "name": "stdout",
     "output_type": "stream",
     "text": [
      "/kaggle/input/test-file/tested.csv\n"
     ]
    }
   ],
   "source": [
    "# This Python 3 environment comes with many helpful analytics libraries installed\n",
    "# It is defined by the kaggle/python Docker image: https://github.com/kaggle/docker-python\n",
    "# For example, here's several helpful packages to load\n",
    "\n",
    "import numpy as np # linear algebra\n",
    "import pandas as pd # data processing, CSV file I/O (e.g. pd.read_csv)\n",
    "\n",
    "# Input data files are available in the read-only \"../input/\" directory\n",
    "# For example, running this (by clicking run or pressing Shift+Enter) will list all files under the input directory\n",
    "\n",
    "import os\n",
    "for dirname, _, filenames in os.walk('/kaggle/input'):\n",
    "    for filename in filenames:\n",
    "        print(os.path.join(dirname, filename))\n",
    "\n",
    "# You can write up to 20GB to the current directory (/kaggle/working/) that gets preserved as output when you create a version using \"Save & Run All\" \n",
    "# You can also write temporary files to /kaggle/temp/, but they won't be saved outside of the current session"
   ]
  },
  {
   "cell_type": "code",
   "execution_count": 2,
   "id": "26b460f0",
   "metadata": {
    "execution": {
     "iopub.execute_input": "2025-03-24T17:27:49.367020Z",
     "iopub.status.busy": "2025-03-24T17:27:49.366453Z",
     "iopub.status.idle": "2025-03-24T17:27:49.371843Z",
     "shell.execute_reply": "2025-03-24T17:27:49.370466Z"
    },
    "papermill": {
     "duration": 0.01388,
     "end_time": "2025-03-24T17:27:49.374870",
     "exception": false,
     "start_time": "2025-03-24T17:27:49.360990",
     "status": "completed"
    },
    "tags": []
   },
   "outputs": [],
   "source": [
    "import pandas as pd\n",
    "import warnings\n",
    "\n",
    "# Ignore warnings (optional, but useful in some cases)\n",
    "warnings.simplefilter(\"ignore\")"
   ]
  },
  {
   "cell_type": "markdown",
   "id": "8e6e6dca",
   "metadata": {
    "papermill": {
     "duration": 0.003982,
     "end_time": "2025-03-24T17:27:49.383313",
     "exception": false,
     "start_time": "2025-03-24T17:27:49.379331",
     "status": "completed"
    },
    "tags": []
   },
   "source": [
    "Load the Titanic Dataset"
   ]
  },
  {
   "cell_type": "code",
   "execution_count": 3,
   "id": "9606fbf7",
   "metadata": {
    "execution": {
     "iopub.execute_input": "2025-03-24T17:27:49.394569Z",
     "iopub.status.busy": "2025-03-24T17:27:49.394194Z",
     "iopub.status.idle": "2025-03-24T17:27:49.415160Z",
     "shell.execute_reply": "2025-03-24T17:27:49.413948Z"
    },
    "papermill": {
     "duration": 0.029031,
     "end_time": "2025-03-24T17:27:49.417218",
     "exception": false,
     "start_time": "2025-03-24T17:27:49.388187",
     "status": "completed"
    },
    "tags": []
   },
   "outputs": [],
   "source": [
    "df = pd.read_csv(\"/kaggle/input/test-file/tested.csv\")"
   ]
  },
  {
   "cell_type": "code",
   "execution_count": 4,
   "id": "0072c806",
   "metadata": {
    "execution": {
     "iopub.execute_input": "2025-03-24T17:27:49.427223Z",
     "iopub.status.busy": "2025-03-24T17:27:49.426827Z",
     "iopub.status.idle": "2025-03-24T17:27:49.458739Z",
     "shell.execute_reply": "2025-03-24T17:27:49.457592Z"
    },
    "papermill": {
     "duration": 0.038921,
     "end_time": "2025-03-24T17:27:49.460613",
     "exception": false,
     "start_time": "2025-03-24T17:27:49.421692",
     "status": "completed"
    },
    "tags": []
   },
   "outputs": [
    {
     "data": {
      "text/html": [
       "<div>\n",
       "<style scoped>\n",
       "    .dataframe tbody tr th:only-of-type {\n",
       "        vertical-align: middle;\n",
       "    }\n",
       "\n",
       "    .dataframe tbody tr th {\n",
       "        vertical-align: top;\n",
       "    }\n",
       "\n",
       "    .dataframe thead th {\n",
       "        text-align: right;\n",
       "    }\n",
       "</style>\n",
       "<table border=\"1\" class=\"dataframe\">\n",
       "  <thead>\n",
       "    <tr style=\"text-align: right;\">\n",
       "      <th></th>\n",
       "      <th>PassengerId</th>\n",
       "      <th>Survived</th>\n",
       "      <th>Pclass</th>\n",
       "      <th>Name</th>\n",
       "      <th>Sex</th>\n",
       "      <th>Age</th>\n",
       "      <th>SibSp</th>\n",
       "      <th>Parch</th>\n",
       "      <th>Ticket</th>\n",
       "      <th>Fare</th>\n",
       "      <th>Cabin</th>\n",
       "      <th>Embarked</th>\n",
       "    </tr>\n",
       "  </thead>\n",
       "  <tbody>\n",
       "    <tr>\n",
       "      <th>0</th>\n",
       "      <td>892</td>\n",
       "      <td>0</td>\n",
       "      <td>3</td>\n",
       "      <td>Kelly, Mr. James</td>\n",
       "      <td>male</td>\n",
       "      <td>34.5</td>\n",
       "      <td>0</td>\n",
       "      <td>0</td>\n",
       "      <td>330911</td>\n",
       "      <td>7.8292</td>\n",
       "      <td>NaN</td>\n",
       "      <td>Q</td>\n",
       "    </tr>\n",
       "    <tr>\n",
       "      <th>1</th>\n",
       "      <td>893</td>\n",
       "      <td>1</td>\n",
       "      <td>3</td>\n",
       "      <td>Wilkes, Mrs. James (Ellen Needs)</td>\n",
       "      <td>female</td>\n",
       "      <td>47.0</td>\n",
       "      <td>1</td>\n",
       "      <td>0</td>\n",
       "      <td>363272</td>\n",
       "      <td>7.0000</td>\n",
       "      <td>NaN</td>\n",
       "      <td>S</td>\n",
       "    </tr>\n",
       "    <tr>\n",
       "      <th>2</th>\n",
       "      <td>894</td>\n",
       "      <td>0</td>\n",
       "      <td>2</td>\n",
       "      <td>Myles, Mr. Thomas Francis</td>\n",
       "      <td>male</td>\n",
       "      <td>62.0</td>\n",
       "      <td>0</td>\n",
       "      <td>0</td>\n",
       "      <td>240276</td>\n",
       "      <td>9.6875</td>\n",
       "      <td>NaN</td>\n",
       "      <td>Q</td>\n",
       "    </tr>\n",
       "    <tr>\n",
       "      <th>3</th>\n",
       "      <td>895</td>\n",
       "      <td>0</td>\n",
       "      <td>3</td>\n",
       "      <td>Wirz, Mr. Albert</td>\n",
       "      <td>male</td>\n",
       "      <td>27.0</td>\n",
       "      <td>0</td>\n",
       "      <td>0</td>\n",
       "      <td>315154</td>\n",
       "      <td>8.6625</td>\n",
       "      <td>NaN</td>\n",
       "      <td>S</td>\n",
       "    </tr>\n",
       "    <tr>\n",
       "      <th>4</th>\n",
       "      <td>896</td>\n",
       "      <td>1</td>\n",
       "      <td>3</td>\n",
       "      <td>Hirvonen, Mrs. Alexander (Helga E Lindqvist)</td>\n",
       "      <td>female</td>\n",
       "      <td>22.0</td>\n",
       "      <td>1</td>\n",
       "      <td>1</td>\n",
       "      <td>3101298</td>\n",
       "      <td>12.2875</td>\n",
       "      <td>NaN</td>\n",
       "      <td>S</td>\n",
       "    </tr>\n",
       "  </tbody>\n",
       "</table>\n",
       "</div>"
      ],
      "text/plain": [
       "   PassengerId  Survived  Pclass  \\\n",
       "0          892         0       3   \n",
       "1          893         1       3   \n",
       "2          894         0       2   \n",
       "3          895         0       3   \n",
       "4          896         1       3   \n",
       "\n",
       "                                           Name     Sex   Age  SibSp  Parch  \\\n",
       "0                              Kelly, Mr. James    male  34.5      0      0   \n",
       "1              Wilkes, Mrs. James (Ellen Needs)  female  47.0      1      0   \n",
       "2                     Myles, Mr. Thomas Francis    male  62.0      0      0   \n",
       "3                              Wirz, Mr. Albert    male  27.0      0      0   \n",
       "4  Hirvonen, Mrs. Alexander (Helga E Lindqvist)  female  22.0      1      1   \n",
       "\n",
       "    Ticket     Fare Cabin Embarked  \n",
       "0   330911   7.8292   NaN        Q  \n",
       "1   363272   7.0000   NaN        S  \n",
       "2   240276   9.6875   NaN        Q  \n",
       "3   315154   8.6625   NaN        S  \n",
       "4  3101298  12.2875   NaN        S  "
      ]
     },
     "execution_count": 4,
     "metadata": {},
     "output_type": "execute_result"
    }
   ],
   "source": [
    "df.head()"
   ]
  },
  {
   "cell_type": "markdown",
   "id": "9bac7f26",
   "metadata": {
    "papermill": {
     "duration": 0.004218,
     "end_time": "2025-03-24T17:27:49.469478",
     "exception": false,
     "start_time": "2025-03-24T17:27:49.465260",
     "status": "completed"
    },
    "tags": []
   },
   "source": [
    "Explore the Data"
   ]
  },
  {
   "cell_type": "code",
   "execution_count": 5,
   "id": "64fae693",
   "metadata": {
    "execution": {
     "iopub.execute_input": "2025-03-24T17:27:49.479560Z",
     "iopub.status.busy": "2025-03-24T17:27:49.479220Z",
     "iopub.status.idle": "2025-03-24T17:27:49.514122Z",
     "shell.execute_reply": "2025-03-24T17:27:49.513025Z"
    },
    "papermill": {
     "duration": 0.042093,
     "end_time": "2025-03-24T17:27:49.515964",
     "exception": false,
     "start_time": "2025-03-24T17:27:49.473871",
     "status": "completed"
    },
    "tags": []
   },
   "outputs": [
    {
     "data": {
      "text/html": [
       "<div>\n",
       "<style scoped>\n",
       "    .dataframe tbody tr th:only-of-type {\n",
       "        vertical-align: middle;\n",
       "    }\n",
       "\n",
       "    .dataframe tbody tr th {\n",
       "        vertical-align: top;\n",
       "    }\n",
       "\n",
       "    .dataframe thead th {\n",
       "        text-align: right;\n",
       "    }\n",
       "</style>\n",
       "<table border=\"1\" class=\"dataframe\">\n",
       "  <thead>\n",
       "    <tr style=\"text-align: right;\">\n",
       "      <th></th>\n",
       "      <th>PassengerId</th>\n",
       "      <th>Survived</th>\n",
       "      <th>Pclass</th>\n",
       "      <th>Age</th>\n",
       "      <th>SibSp</th>\n",
       "      <th>Parch</th>\n",
       "      <th>Fare</th>\n",
       "    </tr>\n",
       "  </thead>\n",
       "  <tbody>\n",
       "    <tr>\n",
       "      <th>count</th>\n",
       "      <td>418.000000</td>\n",
       "      <td>418.000000</td>\n",
       "      <td>418.000000</td>\n",
       "      <td>332.000000</td>\n",
       "      <td>418.000000</td>\n",
       "      <td>418.000000</td>\n",
       "      <td>417.000000</td>\n",
       "    </tr>\n",
       "    <tr>\n",
       "      <th>mean</th>\n",
       "      <td>1100.500000</td>\n",
       "      <td>0.363636</td>\n",
       "      <td>2.265550</td>\n",
       "      <td>30.272590</td>\n",
       "      <td>0.447368</td>\n",
       "      <td>0.392344</td>\n",
       "      <td>35.627188</td>\n",
       "    </tr>\n",
       "    <tr>\n",
       "      <th>std</th>\n",
       "      <td>120.810458</td>\n",
       "      <td>0.481622</td>\n",
       "      <td>0.841838</td>\n",
       "      <td>14.181209</td>\n",
       "      <td>0.896760</td>\n",
       "      <td>0.981429</td>\n",
       "      <td>55.907576</td>\n",
       "    </tr>\n",
       "    <tr>\n",
       "      <th>min</th>\n",
       "      <td>892.000000</td>\n",
       "      <td>0.000000</td>\n",
       "      <td>1.000000</td>\n",
       "      <td>0.170000</td>\n",
       "      <td>0.000000</td>\n",
       "      <td>0.000000</td>\n",
       "      <td>0.000000</td>\n",
       "    </tr>\n",
       "    <tr>\n",
       "      <th>25%</th>\n",
       "      <td>996.250000</td>\n",
       "      <td>0.000000</td>\n",
       "      <td>1.000000</td>\n",
       "      <td>21.000000</td>\n",
       "      <td>0.000000</td>\n",
       "      <td>0.000000</td>\n",
       "      <td>7.895800</td>\n",
       "    </tr>\n",
       "    <tr>\n",
       "      <th>50%</th>\n",
       "      <td>1100.500000</td>\n",
       "      <td>0.000000</td>\n",
       "      <td>3.000000</td>\n",
       "      <td>27.000000</td>\n",
       "      <td>0.000000</td>\n",
       "      <td>0.000000</td>\n",
       "      <td>14.454200</td>\n",
       "    </tr>\n",
       "    <tr>\n",
       "      <th>75%</th>\n",
       "      <td>1204.750000</td>\n",
       "      <td>1.000000</td>\n",
       "      <td>3.000000</td>\n",
       "      <td>39.000000</td>\n",
       "      <td>1.000000</td>\n",
       "      <td>0.000000</td>\n",
       "      <td>31.500000</td>\n",
       "    </tr>\n",
       "    <tr>\n",
       "      <th>max</th>\n",
       "      <td>1309.000000</td>\n",
       "      <td>1.000000</td>\n",
       "      <td>3.000000</td>\n",
       "      <td>76.000000</td>\n",
       "      <td>8.000000</td>\n",
       "      <td>9.000000</td>\n",
       "      <td>512.329200</td>\n",
       "    </tr>\n",
       "  </tbody>\n",
       "</table>\n",
       "</div>"
      ],
      "text/plain": [
       "       PassengerId    Survived      Pclass         Age       SibSp  \\\n",
       "count   418.000000  418.000000  418.000000  332.000000  418.000000   \n",
       "mean   1100.500000    0.363636    2.265550   30.272590    0.447368   \n",
       "std     120.810458    0.481622    0.841838   14.181209    0.896760   \n",
       "min     892.000000    0.000000    1.000000    0.170000    0.000000   \n",
       "25%     996.250000    0.000000    1.000000   21.000000    0.000000   \n",
       "50%    1100.500000    0.000000    3.000000   27.000000    0.000000   \n",
       "75%    1204.750000    1.000000    3.000000   39.000000    1.000000   \n",
       "max    1309.000000    1.000000    3.000000   76.000000    8.000000   \n",
       "\n",
       "            Parch        Fare  \n",
       "count  418.000000  417.000000  \n",
       "mean     0.392344   35.627188  \n",
       "std      0.981429   55.907576  \n",
       "min      0.000000    0.000000  \n",
       "25%      0.000000    7.895800  \n",
       "50%      0.000000   14.454200  \n",
       "75%      0.000000   31.500000  \n",
       "max      9.000000  512.329200  "
      ]
     },
     "execution_count": 5,
     "metadata": {},
     "output_type": "execute_result"
    }
   ],
   "source": [
    "df.describe()# Summary statistics"
   ]
  },
  {
   "cell_type": "code",
   "execution_count": 6,
   "id": "83e4c911",
   "metadata": {
    "execution": {
     "iopub.execute_input": "2025-03-24T17:27:49.527003Z",
     "iopub.status.busy": "2025-03-24T17:27:49.526577Z",
     "iopub.status.idle": "2025-03-24T17:27:49.549903Z",
     "shell.execute_reply": "2025-03-24T17:27:49.548614Z"
    },
    "papermill": {
     "duration": 0.030808,
     "end_time": "2025-03-24T17:27:49.551727",
     "exception": false,
     "start_time": "2025-03-24T17:27:49.520919",
     "status": "completed"
    },
    "tags": []
   },
   "outputs": [
    {
     "name": "stdout",
     "output_type": "stream",
     "text": [
      "<class 'pandas.core.frame.DataFrame'>\n",
      "RangeIndex: 418 entries, 0 to 417\n",
      "Data columns (total 12 columns):\n",
      " #   Column       Non-Null Count  Dtype  \n",
      "---  ------       --------------  -----  \n",
      " 0   PassengerId  418 non-null    int64  \n",
      " 1   Survived     418 non-null    int64  \n",
      " 2   Pclass       418 non-null    int64  \n",
      " 3   Name         418 non-null    object \n",
      " 4   Sex          418 non-null    object \n",
      " 5   Age          332 non-null    float64\n",
      " 6   SibSp        418 non-null    int64  \n",
      " 7   Parch        418 non-null    int64  \n",
      " 8   Ticket       418 non-null    object \n",
      " 9   Fare         417 non-null    float64\n",
      " 10  Cabin        91 non-null     object \n",
      " 11  Embarked     418 non-null    object \n",
      "dtypes: float64(2), int64(5), object(5)\n",
      "memory usage: 39.3+ KB\n",
      "None\n"
     ]
    }
   ],
   "source": [
    "print(df.info()) # Basic info about dataset"
   ]
  },
  {
   "cell_type": "code",
   "execution_count": 7,
   "id": "22f25931",
   "metadata": {
    "execution": {
     "iopub.execute_input": "2025-03-24T17:27:49.563168Z",
     "iopub.status.busy": "2025-03-24T17:27:49.562668Z",
     "iopub.status.idle": "2025-03-24T17:27:49.571173Z",
     "shell.execute_reply": "2025-03-24T17:27:49.570195Z"
    },
    "papermill": {
     "duration": 0.016305,
     "end_time": "2025-03-24T17:27:49.573019",
     "exception": false,
     "start_time": "2025-03-24T17:27:49.556714",
     "status": "completed"
    },
    "tags": []
   },
   "outputs": [
    {
     "data": {
      "text/plain": [
       "PassengerId      0\n",
       "Survived         0\n",
       "Pclass           0\n",
       "Name             0\n",
       "Sex              0\n",
       "Age             86\n",
       "SibSp            0\n",
       "Parch            0\n",
       "Ticket           0\n",
       "Fare             1\n",
       "Cabin          327\n",
       "Embarked         0\n",
       "dtype: int64"
      ]
     },
     "execution_count": 7,
     "metadata": {},
     "output_type": "execute_result"
    }
   ],
   "source": [
    "df.isnull().sum()# Check missing values"
   ]
  },
  {
   "cell_type": "markdown",
   "id": "e4d281b0",
   "metadata": {
    "papermill": {
     "duration": 0.004645,
     "end_time": "2025-03-24T17:27:49.583157",
     "exception": false,
     "start_time": "2025-03-24T17:27:49.578512",
     "status": "completed"
    },
    "tags": []
   },
   "source": [
    "Handle Missing Values"
   ]
  },
  {
   "cell_type": "code",
   "execution_count": 8,
   "id": "35df7a45",
   "metadata": {
    "execution": {
     "iopub.execute_input": "2025-03-24T17:27:49.594798Z",
     "iopub.status.busy": "2025-03-24T17:27:49.594439Z",
     "iopub.status.idle": "2025-03-24T17:27:49.600118Z",
     "shell.execute_reply": "2025-03-24T17:27:49.599077Z"
    },
    "papermill": {
     "duration": 0.013756,
     "end_time": "2025-03-24T17:27:49.601973",
     "exception": false,
     "start_time": "2025-03-24T17:27:49.588217",
     "status": "completed"
    },
    "tags": []
   },
   "outputs": [],
   "source": [
    "df[\"Age\"].fillna(df[\"Age\"].median(), inplace=True)"
   ]
  },
  {
   "cell_type": "code",
   "execution_count": 9,
   "id": "5f936ee9",
   "metadata": {
    "execution": {
     "iopub.execute_input": "2025-03-24T17:27:49.613324Z",
     "iopub.status.busy": "2025-03-24T17:27:49.612979Z",
     "iopub.status.idle": "2025-03-24T17:27:49.618786Z",
     "shell.execute_reply": "2025-03-24T17:27:49.617806Z"
    },
    "papermill": {
     "duration": 0.013415,
     "end_time": "2025-03-24T17:27:49.620600",
     "exception": false,
     "start_time": "2025-03-24T17:27:49.607185",
     "status": "completed"
    },
    "tags": []
   },
   "outputs": [],
   "source": [
    "df[\"Fare\"] = pd.to_numeric(df[\"Fare\"], errors=\"coerce\") #Converts non-numeric values to NaN\n",
    "\n",
    "df[\"Fare\"].fillna(df[\"Fare\"].median(), inplace=True)"
   ]
  },
  {
   "cell_type": "code",
   "execution_count": 10,
   "id": "789ca19a",
   "metadata": {
    "execution": {
     "iopub.execute_input": "2025-03-24T17:27:49.632720Z",
     "iopub.status.busy": "2025-03-24T17:27:49.632381Z",
     "iopub.status.idle": "2025-03-24T17:27:49.640305Z",
     "shell.execute_reply": "2025-03-24T17:27:49.639265Z"
    },
    "papermill": {
     "duration": 0.01585,
     "end_time": "2025-03-24T17:27:49.641931",
     "exception": false,
     "start_time": "2025-03-24T17:27:49.626081",
     "status": "completed"
    },
    "tags": []
   },
   "outputs": [],
   "source": [
    "df.drop(columns=[\"Cabin\"], inplace=True)"
   ]
  },
  {
   "cell_type": "markdown",
   "id": "04a71d9d",
   "metadata": {
    "papermill": {
     "duration": 0.005911,
     "end_time": "2025-03-24T17:27:49.652840",
     "exception": false,
     "start_time": "2025-03-24T17:27:49.646929",
     "status": "completed"
    },
    "tags": []
   },
   "source": [
    "rechecking"
   ]
  },
  {
   "cell_type": "code",
   "execution_count": 11,
   "id": "cdff5319",
   "metadata": {
    "execution": {
     "iopub.execute_input": "2025-03-24T17:27:49.664073Z",
     "iopub.status.busy": "2025-03-24T17:27:49.663639Z",
     "iopub.status.idle": "2025-03-24T17:27:49.670244Z",
     "shell.execute_reply": "2025-03-24T17:27:49.669145Z"
    },
    "papermill": {
     "duration": 0.014264,
     "end_time": "2025-03-24T17:27:49.672096",
     "exception": false,
     "start_time": "2025-03-24T17:27:49.657832",
     "status": "completed"
    },
    "tags": []
   },
   "outputs": [
    {
     "name": "stdout",
     "output_type": "stream",
     "text": [
      "PassengerId    0\n",
      "Survived       0\n",
      "Pclass         0\n",
      "Name           0\n",
      "Sex            0\n",
      "Age            0\n",
      "SibSp          0\n",
      "Parch          0\n",
      "Ticket         0\n",
      "Fare           0\n",
      "Embarked       0\n",
      "dtype: int64\n"
     ]
    }
   ],
   "source": [
    "print(df.isnull().sum())\n"
   ]
  },
  {
   "cell_type": "markdown",
   "id": "d9c5709c",
   "metadata": {
    "papermill": {
     "duration": 0.004546,
     "end_time": "2025-03-24T17:27:49.681831",
     "exception": false,
     "start_time": "2025-03-24T17:27:49.677285",
     "status": "completed"
    },
    "tags": []
   },
   "source": [
    " Answer Questions\n",
    "\n",
    " 1️⃣ Find Total Survivors\n",
    " 2️⃣ Calculate Average Passenger Age\n",
    " 3️⃣ Count Passengers in Each Class"
   ]
  },
  {
   "cell_type": "code",
   "execution_count": 12,
   "id": "0580de1b",
   "metadata": {
    "execution": {
     "iopub.execute_input": "2025-03-24T17:27:49.692962Z",
     "iopub.status.busy": "2025-03-24T17:27:49.692538Z",
     "iopub.status.idle": "2025-03-24T17:27:49.698532Z",
     "shell.execute_reply": "2025-03-24T17:27:49.697496Z"
    },
    "papermill": {
     "duration": 0.013863,
     "end_time": "2025-03-24T17:27:49.700573",
     "exception": false,
     "start_time": "2025-03-24T17:27:49.686710",
     "status": "completed"
    },
    "tags": []
   },
   "outputs": [
    {
     "name": "stdout",
     "output_type": "stream",
     "text": [
      "Total Survivors: 152\n"
     ]
    }
   ],
   "source": [
    "total_survivors = df[\"Survived\"].sum()\n",
    "print(\"Total Survivors:\", total_survivors)"
   ]
  },
  {
   "cell_type": "code",
   "execution_count": 13,
   "id": "c8e13222",
   "metadata": {
    "execution": {
     "iopub.execute_input": "2025-03-24T17:27:49.713097Z",
     "iopub.status.busy": "2025-03-24T17:27:49.712608Z",
     "iopub.status.idle": "2025-03-24T17:27:49.717539Z",
     "shell.execute_reply": "2025-03-24T17:27:49.716520Z"
    },
    "papermill": {
     "duration": 0.01256,
     "end_time": "2025-03-24T17:27:49.719101",
     "exception": false,
     "start_time": "2025-03-24T17:27:49.706541",
     "status": "completed"
    },
    "tags": []
   },
   "outputs": [
    {
     "name": "stdout",
     "output_type": "stream",
     "text": [
      "Average Age of Passengers: 29.599282296650717\n"
     ]
    }
   ],
   "source": [
    "avg_age = df[\"Age\"].mean()\n",
    "print(\"Average Age of Passengers:\", avg_age)"
   ]
  },
  {
   "cell_type": "code",
   "execution_count": 14,
   "id": "a38e6237",
   "metadata": {
    "execution": {
     "iopub.execute_input": "2025-03-24T17:27:49.730963Z",
     "iopub.status.busy": "2025-03-24T17:27:49.730524Z",
     "iopub.status.idle": "2025-03-24T17:27:49.741351Z",
     "shell.execute_reply": "2025-03-24T17:27:49.739244Z"
    },
    "papermill": {
     "duration": 0.019248,
     "end_time": "2025-03-24T17:27:49.743539",
     "exception": false,
     "start_time": "2025-03-24T17:27:49.724291",
     "status": "completed"
    },
    "tags": []
   },
   "outputs": [
    {
     "name": "stdout",
     "output_type": "stream",
     "text": [
      "Passengers in each class:\n",
      " Pclass\n",
      "3    218\n",
      "1    107\n",
      "2     93\n",
      "Name: count, dtype: int64\n"
     ]
    }
   ],
   "source": [
    "passenger_classes = df[\"Pclass\"].value_counts()\n",
    "print(\"Passengers in each class:\\n\", passenger_classes)"
   ]
  }
 ],
 "metadata": {
  "kaggle": {
   "accelerator": "none",
   "dataSources": [
    {
     "datasetId": 826163,
     "sourceId": 2879186,
     "sourceType": "datasetVersion"
    }
   ],
   "dockerImageVersionId": 30918,
   "isGpuEnabled": false,
   "isInternetEnabled": true,
   "language": "python",
   "sourceType": "notebook"
  },
  "kernelspec": {
   "display_name": "Python 3",
   "language": "python",
   "name": "python3"
  },
  "language_info": {
   "codemirror_mode": {
    "name": "ipython",
    "version": 3
   },
   "file_extension": ".py",
   "mimetype": "text/x-python",
   "name": "python",
   "nbconvert_exporter": "python",
   "pygments_lexer": "ipython3",
   "version": "3.10.12"
  },
  "papermill": {
   "default_parameters": {},
   "duration": 4.96518,
   "end_time": "2025-03-24T17:27:50.369480",
   "environment_variables": {},
   "exception": null,
   "input_path": "__notebook__.ipynb",
   "output_path": "__notebook__.ipynb",
   "parameters": {},
   "start_time": "2025-03-24T17:27:45.404300",
   "version": "2.6.0"
  }
 },
 "nbformat": 4,
 "nbformat_minor": 5
}
