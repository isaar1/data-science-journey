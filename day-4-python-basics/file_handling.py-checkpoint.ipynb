{
 "cells": [
  {
   "cell_type": "raw",
   "id": "7db7f2ef",
   "metadata": {},
   "source": [
    "What is File Handling?\n",
    "File handling in Python allows you to read, write, and modify files (CSV, JSON, text, etc.).\n",
    "We mainly use:\n",
    "✅ open() function for basic file operations\n",
    "✅ csv module for handling CSV files\n",
    "✅ json module for working with JSON files\n",
    "✅ pandas for advanced CSV handling"
   ]
  },
  {
   "cell_type": "markdown",
   "id": "e2c1bd3f",
   "metadata": {},
   "source": [
    "# Reading a CSV File (Basic) using csv Module\n",
    "### 🔹 A CSV (Comma-Separated Values) file stores tabular data. Each line is a row, and values are separated by commas."
   ]
  },
  {
   "cell_type": "code",
   "execution_count": 2,
   "id": "b81ba7be",
   "metadata": {},
   "outputs": [
    {
     "name": "stdout",
     "output_type": "stream",
     "text": [
      "['Name', 'Age', 'City']\n",
      "['Alice', '25', 'New York']\n",
      "['Bob', '30', 'San Francisco']\n",
      "['Charlie', '22', 'Los Angeles']\n"
     ]
    }
   ],
   "source": [
    "import csv\n",
    "\n",
    "# Open the CSV file and read its content\n",
    "with open(\"data.csv\", mode=\"r\") as file:\n",
    "    reader = csv.reader(file)  # Create a CSV reader object\n",
    "    for row in reader:\n",
    "        print(row)  # Print each row as a list"
   ]
  },
  {
   "cell_type": "markdown",
   "id": "441a5f8e",
   "metadata": {},
   "source": [
    "# Writing a CSV File using csv Module"
   ]
  },
  {
   "cell_type": "code",
   "execution_count": 3,
   "id": "7e7265d4",
   "metadata": {},
   "outputs": [],
   "source": [
    "import csv\n",
    "\n",
    "data = [\n",
    "    [\"Name\", \"Age\", \"City\"],\n",
    "    [\"David\", 28, \"Chicago\"],\n",
    "    [\"Eve\", 35, \"Houston\"]\n",
    "]\n",
    "\n",
    "with open(\"output.csv\", mode=\"w\", newline=\"\") as file:\n",
    "    writer = csv.writer(file)  # Create a CSV writer object\n",
    "    writer.writerows(data)  # Write multiple rows"
   ]
  },
  {
   "cell_type": "markdown",
   "id": "2831c1d0",
   "metadata": {},
   "source": [
    "# Reading CSV with Pandas (Advanced Method)\n",
    "### 🔹 Using Pandas for easier handling:"
   ]
  },
  {
   "cell_type": "code",
   "execution_count": 4,
   "id": "a779cb7e",
   "metadata": {},
   "outputs": [
    {
     "name": "stdout",
     "output_type": "stream",
     "text": [
      "      Name  Age           City\n",
      "0    Alice   25       New York\n",
      "1      Bob   30  San Francisco\n",
      "2  Charlie   22    Los Angeles\n"
     ]
    }
   ],
   "source": [
    "import pandas as pd\n",
    "\n",
    "df = pd.read_csv(\"data.csv\")  # Read CSV into a DataFrame\n",
    "print(df.head())  # Display first few rows"
   ]
  },
  {
   "cell_type": "raw",
   "id": "0053aebb",
   "metadata": {},
   "source": [
    "📌 Advantages of Pandas over csv Module:\n",
    "✔ Handles large datasets easily\n",
    "✔ Provides advanced filtering & manipulation\n",
    "✔ Can handle missing values"
   ]
  },
  {
   "cell_type": "markdown",
   "id": "622dde81",
   "metadata": {},
   "source": [
    "# Writing a CSV with Pandas"
   ]
  },
  {
   "cell_type": "code",
   "execution_count": 5,
   "id": "c78ca79a",
   "metadata": {},
   "outputs": [],
   "source": [
    "df.to_csv(\"output_pandas.csv\", index=False)  # Save DataFrame to CSV\n",
    "\n",
    "# The index=False prevents Pandas from adding an extra index column."
   ]
  },
  {
   "cell_type": "markdown",
   "id": "750f5bc6",
   "metadata": {},
   "source": [
    "# 🔹 Working with JSON Files\n",
    "### ✅ Reading a JSON File"
   ]
  },
  {
   "cell_type": "code",
   "execution_count": 6,
   "id": "85bab28e",
   "metadata": {},
   "outputs": [
    {
     "name": "stdout",
     "output_type": "stream",
     "text": [
      "{'name': 'Alice', 'age': 25, 'city': 'New York'}\n"
     ]
    }
   ],
   "source": [
    "import json\n",
    "\n",
    "with open(\"data.json\", \"r\") as file:\n",
    "    data = json.load(file)  # Convert JSON to Python dictionary\n",
    "    print(data)  # Output: {'name': 'Alice', 'age': 25, 'city': 'New York'}"
   ]
  },
  {
   "cell_type": "markdown",
   "id": "ecf78d74",
   "metadata": {},
   "source": [
    "### ✅Writing a JSON File"
   ]
  },
  {
   "cell_type": "code",
   "execution_count": 7,
   "id": "78c12e65",
   "metadata": {},
   "outputs": [],
   "source": [
    "data = {\n",
    "    \"name\": \"Bob\",\n",
    "    \"age\": 30,\n",
    "    \"city\": \"San Francisco\"\n",
    "}\n",
    "\n",
    "with open(\"output.json\", \"w\") as file:\n",
    "    json.dump(data, file, indent=4)  # Save dictionary as JSON with indentation\n",
    "    \n",
    "# The indent=4 makes the JSON readable."
   ]
  },
  {
   "cell_type": "markdown",
   "id": "f8b47e69",
   "metadata": {},
   "source": [
    "# 🔹 Exception Handling in File Handling\n",
    "### ✅ Handling Missing Files (FileNotFoundError)"
   ]
  },
  {
   "cell_type": "code",
   "execution_count": 8,
   "id": "0e2059f4",
   "metadata": {},
   "outputs": [
    {
     "name": "stdout",
     "output_type": "stream",
     "text": [
      "Error: The file does not exist.\n"
     ]
    }
   ],
   "source": [
    "try:\n",
    "    with open(\"missing_file.csv\", \"r\") as file:\n",
    "        data = file.read()\n",
    "except FileNotFoundError:\n",
    "    print(\"Error: The file does not exist.\")"
   ]
  },
  {
   "cell_type": "markdown",
   "id": "ced1758d",
   "metadata": {},
   "source": [
    "### ✅ Handling Other Errors (try-except)"
   ]
  },
  {
   "cell_type": "code",
   "execution_count": 9,
   "id": "e885de13",
   "metadata": {},
   "outputs": [
    {
     "name": "stdout",
     "output_type": "stream",
     "text": [
      "Invalid value found in file!\n"
     ]
    }
   ],
   "source": [
    "try:\n",
    "    with open(\"data.csv\", \"r\") as file:\n",
    "        data = file.read()\n",
    "        print(int(data))  # This will cause an error\n",
    "except FileNotFoundError:\n",
    "    print(\"File not found!\")\n",
    "except ValueError:\n",
    "    print(\"Invalid value found in file!\")\n",
    "except Exception as e:\n",
    "    print(f\"Unexpected error: {e}\")\n",
    "\n",
    "# This makes sure your program doesn’t crash if an error happens!"
   ]
  }
 ],
 "metadata": {
  "kernelspec": {
   "display_name": "Python 3 (ipykernel)",
   "language": "python",
   "name": "python3"
  },
  "language_info": {
   "codemirror_mode": {
    "name": "ipython",
    "version": 3
   },
   "file_extension": ".py",
   "mimetype": "text/x-python",
   "name": "python",
   "nbconvert_exporter": "python",
   "pygments_lexer": "ipython3",
   "version": "3.11.5"
  }
 },
 "nbformat": 4,
 "nbformat_minor": 5
}
