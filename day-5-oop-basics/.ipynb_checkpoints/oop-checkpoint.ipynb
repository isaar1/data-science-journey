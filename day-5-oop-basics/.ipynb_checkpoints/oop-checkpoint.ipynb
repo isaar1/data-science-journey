{
 "cells": [
  {
   "cell_type": "markdown",
   "id": "8fe8b414",
   "metadata": {},
   "source": [
    "# 🛠 Object-Oriented Programming (OOP)"
   ]
  },
  {
   "cell_type": "markdown",
   "id": "2e3af5be",
   "metadata": {},
   "source": [
    "## 📌 Step 1: Classes & Objects"
   ]
  },
  {
   "cell_type": "raw",
   "id": "613a6517",
   "metadata": {},
   "source": [
    "📖 Concept:\n",
    "\n",
    "A class is a blueprint for creating objects.\n",
    "\n",
    "An object is an instance of a class with actual values."
   ]
  },
  {
   "cell_type": "code",
   "execution_count": 1,
   "id": "cbb819ef",
   "metadata": {},
   "outputs": [
    {
     "name": "stdout",
     "output_type": "stream",
     "text": [
      "Car: Toyota Corolla (2022)\n"
     ]
    }
   ],
   "source": [
    "# example\n",
    "\n",
    "class Car:\n",
    "    def __init__(self, brand, model, year):\n",
    "        self.brand = brand\n",
    "        self.model = model\n",
    "        self.year = year\n",
    "\n",
    "    def display_info(self):\n",
    "        print(f\"Car: {self.brand} {self.model} ({self.year})\")\n",
    "\n",
    "# Creating an object\n",
    "my_car = Car(\"Toyota\", \"Corolla\", 2022)\n",
    "my_car.display_info()"
   ]
  },
  {
   "cell_type": "markdown",
   "id": "ffa2a99d",
   "metadata": {},
   "source": [
    "✅ Task 1:\n",
    "\n",
    "Modify the Car class to add a method start_engine() that prints \"Engine started!\".\n",
    "\n",
    "Create another object and test the function.\n",
    "\n"
   ]
  },
  {
   "cell_type": "code",
   "execution_count": 2,
   "id": "d06daa27",
   "metadata": {},
   "outputs": [
    {
     "name": "stdout",
     "output_type": "stream",
     "text": [
      "Car: Honda Civic (2023)\n",
      "Engine started!\n"
     ]
    }
   ],
   "source": [
    "# solution:\n",
    "\n",
    "class Car:\n",
    "    def __init__(self, brand, model, year):\n",
    "        self.brand = brand\n",
    "        self.model = model\n",
    "        self.year = year\n",
    "\n",
    "    def display_info(self):\n",
    "        print(f\"Car: {self.brand} {self.model} ({self.year})\")\n",
    "\n",
    "    def start_engine(self):\n",
    "        print(\"Engine started!\")\n",
    "\n",
    "# Creating an object\n",
    "car1 = Car(\"Honda\", \"Civic\", 2023)\n",
    "car1.display_info()\n",
    "car1.start_engine()"
   ]
  },
  {
   "cell_type": "markdown",
   "id": "a1f8c39b",
   "metadata": {},
   "source": [
    "## 📌 Step 2: Instance & Class Variables"
   ]
  },
  {
   "cell_type": "raw",
   "id": "754f99b2",
   "metadata": {},
   "source": [
    "📖 Concept:\n",
    "\n",
    "Instance variables: Unique to each object.\n",
    "\n",
    "Class variables: Shared among all instances."
   ]
  },
  {
   "cell_type": "code",
   "execution_count": 3,
   "id": "16d0c0af",
   "metadata": {},
   "outputs": [
    {
     "name": "stdout",
     "output_type": "stream",
     "text": [
      "Student: John, Grade: 10, School: ABC High School\n",
      "Student: Emma, Grade: 12, School: ABC High School\n"
     ]
    }
   ],
   "source": [
    "# example:\n",
    "\n",
    "class Student:\n",
    "    school_name = \"ABC High School\"  # Class variable\n",
    "\n",
    "    def __init__(self, name, grade):\n",
    "        self.name = name  # Instance variable\n",
    "        self.grade = grade\n",
    "\n",
    "    def display_info(self):\n",
    "        print(f\"Student: {self.name}, Grade: {self.grade}, School: {Student.school_name}\")\n",
    "\n",
    "# Creating objects\n",
    "s1 = Student(\"John\", 10)\n",
    "s2 = Student(\"Emma\", 12)\n",
    "\n",
    "s1.display_info()\n",
    "s2.display_info()"
   ]
  },
  {
   "cell_type": "raw",
   "id": "8877f93f",
   "metadata": {},
   "source": [
    "✅ Task 2: \n",
    "\n",
    "Modify the Student class\n",
    "\n",
    "Add a method change_school(cls, new_name) that changes the class variable.\n",
    "\n",
    "Use it to update the school name and check if it reflects in all objects."
   ]
  },
  {
   "cell_type": "code",
   "execution_count": 4,
   "id": "bb9bfdbe",
   "metadata": {},
   "outputs": [
    {
     "name": "stdout",
     "output_type": "stream",
     "text": [
      "Student: John, Grade: 10, School: XYZ Academy\n",
      "Student: Emma, Grade: 12, School: XYZ Academy\n"
     ]
    }
   ],
   "source": [
    "# solution:\n",
    "\n",
    "class Student:\n",
    "    school_name = \"ABC High School\"\n",
    "\n",
    "    def __init__(self, name, grade):\n",
    "        self.name = name\n",
    "        self.grade = grade\n",
    "\n",
    "    def display_info(self):\n",
    "        print(f\"Student: {self.name}, Grade: {self.grade}, School: {Student.school_name}\")\n",
    "\n",
    "    @classmethod\n",
    "    def change_school(cls, new_name):\n",
    "        cls.school_name = new_name\n",
    "\n",
    "# Test class method\n",
    "Student.change_school(\"XYZ Academy\")\n",
    "\n",
    "s1 = Student(\"John\", 10)\n",
    "s2 = Student(\"Emma\", 12)\n",
    "\n",
    "s1.display_info()\n",
    "s2.display_info()\n"
   ]
  },
  {
   "cell_type": "markdown",
   "id": "ae8f3adc",
   "metadata": {},
   "source": [
    "## 📌 Step 3: Methods (Instance, Class, Static)"
   ]
  },
  {
   "cell_type": "raw",
   "id": "f4f807f9",
   "metadata": {},
   "source": [
    "📖 Concept:\n",
    "\n",
    "Instance Methods: Operate on instance variables.\n",
    "\n",
    "Class Methods (@classmethod): Operate on class variables.\n",
    "\n",
    "Static Methods (@staticmethod): Independent functions inside a class."
   ]
  },
  {
   "cell_type": "raw",
   "id": "838c3f14",
   "metadata": {},
   "source": [
    "✅ Task 3:\n",
    "\n",
    "Modify the BankAccount class\n",
    "\n",
    "Add a method apply_interest() that increases the balance by the interest rate.\n",
    "\n",
    "Create an object and test it."
   ]
  },
  {
   "cell_type": "code",
   "execution_count": 6,
   "id": "ff54298f",
   "metadata": {},
   "outputs": [
    {
     "name": "stdout",
     "output_type": "stream",
     "text": [
      "Deposited 500. New balance: 1500\n",
      "Withdrew 300. New balance: 1200\n",
      "Interest applied. New balance: 1260.0\n"
     ]
    }
   ],
   "source": [
    "# solution:\n",
    "\n",
    "class BankAccount:\n",
    "    interest_rate = 0.05\n",
    "\n",
    "    def __init__(self, owner, balance):\n",
    "        self.owner = owner\n",
    "        self.balance = balance\n",
    "\n",
    "    def deposit(self, amount):\n",
    "        self.balance += amount\n",
    "        print(f\"Deposited {amount}. New balance: {self.balance}\")\n",
    "\n",
    "    def withdraw(self, amount):\n",
    "        if amount > self.balance:\n",
    "            print(\"Insufficient funds!\")\n",
    "        else:\n",
    "            self.balance -= amount\n",
    "            print(f\"Withdrew {amount}. New balance: {self.balance}\")\n",
    "\n",
    "    @classmethod\n",
    "    def set_interest_rate(cls, new_rate):\n",
    "        cls.interest_rate = new_rate\n",
    "\n",
    "    @staticmethod\n",
    "    def bank_info():\n",
    "        print(\"This is XYZ Bank, open Monday to Friday.\")\n",
    "\n",
    "    def apply_interest(self):\n",
    "        self.balance += self.balance * BankAccount.interest_rate\n",
    "        print(f\"Interest applied. New balance: {self.balance}\")\n",
    "\n",
    "# Test\n",
    "acc = BankAccount(\"Alice\", 1000)\n",
    "acc.deposit(500)\n",
    "acc.withdraw(300)\n",
    "acc.apply_interest()"
   ]
  },
  {
   "cell_type": "markdown",
   "id": "b58f37e9",
   "metadata": {},
   "source": [
    "## 📌 Step 4: Encapsulation (Private & Public Attributes)"
   ]
  },
  {
   "cell_type": "raw",
   "id": "815b944a",
   "metadata": {},
   "source": [
    "📖 Concept:\n",
    "\n",
    "Public attributes: Can be accessed anywhere.\n",
    "\n",
    "Private attributes: Prefixed with __, cannot be accessed directly.\n"
   ]
  },
  {
   "cell_type": "raw",
   "id": "79d1f426",
   "metadata": {},
   "source": [
    "✅ Task 4: \n",
    "\n",
    "Modify the Employee class\n",
    "\n",
    "Modify set_salary() to prevent negative values.\n",
    "\n",
    "Try accessing emp.__salary directly—what happens?"
   ]
  },
  {
   "cell_type": "code",
   "execution_count": 7,
   "id": "9185b053",
   "metadata": {},
   "outputs": [
    {
     "name": "stdout",
     "output_type": "stream",
     "text": [
      "John\n",
      "5000\n",
      "Invalid salary!\n"
     ]
    }
   ],
   "source": [
    "# solution:\n",
    "\n",
    "class Employee:\n",
    "    def __init__(self, name, salary):\n",
    "        self.name = name  # Public\n",
    "        self.__salary = salary  # Private\n",
    "\n",
    "    def get_salary(self):\n",
    "        return self.__salary\n",
    "\n",
    "    def set_salary(self, new_salary):\n",
    "        if new_salary > 0:\n",
    "            self.__salary = new_salary\n",
    "        else:\n",
    "            print(\"Invalid salary!\")\n",
    "\n",
    "# Test\n",
    "emp = Employee(\"John\", 5000)\n",
    "print(emp.name)  # Works\n",
    "print(emp.get_salary())  # Works\n",
    "\n",
    "emp.set_salary(6000)  # Works\n",
    "emp.set_salary(-500)  # Invalid"
   ]
  },
  {
   "cell_type": "markdown",
   "id": "84efafee",
   "metadata": {},
   "source": [
    "## 📌 Step 5: Inheritance & Polymorphism"
   ]
  },
  {
   "cell_type": "raw",
   "id": "dd1eb61b",
   "metadata": {},
   "source": [
    "📖 Concept:\n",
    "\n",
    "Inheritance: A class (child) inherits from another class (parent).\n",
    "\n",
    "Polymorphism: Methods behave differently in different classes."
   ]
  },
  {
   "cell_type": "raw",
   "id": "eb41829b",
   "metadata": {},
   "source": [
    "✅ Task 5: \n",
    "\n",
    "Modify the Animal class\n",
    "\n",
    "Add a Lion class that inherits from Animal and returns \"Roar\" from speak()."
   ]
  },
  {
   "cell_type": "code",
   "execution_count": 8,
   "id": "8d681ea5",
   "metadata": {},
   "outputs": [
    {
     "name": "stdout",
     "output_type": "stream",
     "text": [
      "Bark\n",
      "Meow\n",
      "Roar\n"
     ]
    }
   ],
   "source": [
    "# solution:\n",
    "\n",
    "class Animal:\n",
    "    def speak(self):\n",
    "        return \"Some sound\"\n",
    "\n",
    "class Dog(Animal):\n",
    "    def speak(self):\n",
    "        return \"Bark\"\n",
    "\n",
    "class Cat(Animal):\n",
    "    def speak(self):\n",
    "        return \"Meow\"\n",
    "\n",
    "class Lion(Animal):\n",
    "    def speak(self):\n",
    "        return \"Roar\"\n",
    "\n",
    "# Test\n",
    "dog = Dog()\n",
    "cat = Cat()\n",
    "lion = Lion()\n",
    "\n",
    "print(dog.speak())  # Bark\n",
    "print(cat.speak())  # Meow\n",
    "print(lion.speak())  # Roar"
   ]
  }
 ],
 "metadata": {
  "kernelspec": {
   "display_name": "Python 3 (ipykernel)",
   "language": "python",
   "name": "python3"
  },
  "language_info": {
   "codemirror_mode": {
    "name": "ipython",
    "version": 3
   },
   "file_extension": ".py",
   "mimetype": "text/x-python",
   "name": "python",
   "nbconvert_exporter": "python",
   "pygments_lexer": "ipython3",
   "version": "3.11.5"
  }
 },
 "nbformat": 4,
 "nbformat_minor": 5
}
