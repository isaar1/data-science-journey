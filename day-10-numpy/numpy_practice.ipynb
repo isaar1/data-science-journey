{
 "cells": [
  {
   "cell_type": "markdown",
   "id": "35b6b7e1",
   "metadata": {},
   "source": [
    "## 1. Creating Arrays"
   ]
  },
  {
   "cell_type": "code",
   "execution_count": 1,
   "id": "9ba1b895",
   "metadata": {},
   "outputs": [],
   "source": [
    "import numpy as np\n",
    "import math"
   ]
  },
  {
   "cell_type": "code",
   "execution_count": 2,
   "id": "e60c28bf",
   "metadata": {},
   "outputs": [],
   "source": [
    "a = np.array([1, 2, 3])            # 1D array\n",
    "b = np.array([[1, 2], [3, 4]])     # 2D array"
   ]
  },
  {
   "cell_type": "markdown",
   "id": "dc4d9cc7",
   "metadata": {},
   "source": [
    "## 2. Array Indexing & Slicing"
   ]
  },
  {
   "cell_type": "code",
   "execution_count": 3,
   "id": "23461248",
   "metadata": {},
   "outputs": [
    {
     "data": {
      "text/plain": [
       "1"
      ]
     },
     "execution_count": 3,
     "metadata": {},
     "output_type": "execute_result"
    }
   ],
   "source": [
    "a[0]         # First element"
   ]
  },
  {
   "cell_type": "code",
   "execution_count": 4,
   "id": "a90843ba",
   "metadata": {},
   "outputs": [
    {
     "data": {
      "text/plain": [
       "4"
      ]
     },
     "execution_count": 4,
     "metadata": {},
     "output_type": "execute_result"
    }
   ],
   "source": [
    "b[1, 1]      # Element at 2nd row, 2nd column"
   ]
  },
  {
   "cell_type": "code",
   "execution_count": 5,
   "id": "278ef193",
   "metadata": {},
   "outputs": [
    {
     "data": {
      "text/plain": [
       "array([2, 3])"
      ]
     },
     "execution_count": 5,
     "metadata": {},
     "output_type": "execute_result"
    }
   ],
   "source": [
    "a[1:]        # Slice from index 1 to end"
   ]
  },
  {
   "cell_type": "markdown",
   "id": "ac5e29cf",
   "metadata": {},
   "source": [
    "## 3. Shape, Reshape, Dimensions"
   ]
  },
  {
   "cell_type": "code",
   "execution_count": 6,
   "id": "352769e3",
   "metadata": {},
   "outputs": [
    {
     "name": "stdout",
     "output_type": "stream",
     "text": [
      "(3,)\n",
      "2\n",
      "reshape:\n",
      " [[1]\n",
      " [2]\n",
      " [3]]\n"
     ]
    }
   ],
   "source": [
    "print(a.shape)\n",
    "print(b.ndim)\n",
    "c = a.reshape(3,1)\n",
    "print(\"reshape:\\n\",c)"
   ]
  },
  {
   "cell_type": "markdown",
   "id": "2734a82e",
   "metadata": {},
   "source": [
    "## 4. Broadcasting"
   ]
  },
  {
   "cell_type": "code",
   "execution_count": 7,
   "id": "0502cf6e",
   "metadata": {},
   "outputs": [
    {
     "name": "stdout",
     "output_type": "stream",
     "text": [
      "[6 7 8]\n"
     ]
    }
   ],
   "source": [
    "a = np.array([1, 2, 3])\n",
    "b = a + 5   \n",
    "\n",
    "print(b)"
   ]
  },
  {
   "cell_type": "markdown",
   "id": "40e808fc",
   "metadata": {},
   "source": [
    "## 5. Element-wise Operations"
   ]
  },
  {
   "cell_type": "code",
   "execution_count": 8,
   "id": "6d18ba22",
   "metadata": {},
   "outputs": [],
   "source": [
    "x = np.array([1, 2, 3])\n",
    "y = np.array([4, 5, 6])         "
   ]
  },
  {
   "cell_type": "code",
   "execution_count": 9,
   "id": "492c6051",
   "metadata": {},
   "outputs": [
    {
     "data": {
      "text/plain": [
       "array([5, 7, 9])"
      ]
     },
     "execution_count": 9,
     "metadata": {},
     "output_type": "execute_result"
    }
   ],
   "source": [
    "x + y "
   ]
  },
  {
   "cell_type": "code",
   "execution_count": 10,
   "id": "7807ec79",
   "metadata": {},
   "outputs": [
    {
     "data": {
      "text/plain": [
       "array([ 4, 10, 18])"
      ]
     },
     "execution_count": 10,
     "metadata": {},
     "output_type": "execute_result"
    }
   ],
   "source": [
    "x * y "
   ]
  },
  {
   "cell_type": "markdown",
   "id": "ec2f91c0",
   "metadata": {},
   "source": [
    "## 6. Special Arrays"
   ]
  },
  {
   "cell_type": "code",
   "execution_count": 11,
   "id": "35873143",
   "metadata": {},
   "outputs": [
    {
     "name": "stdout",
     "output_type": "stream",
     "text": [
      "[[0. 0. 0.]\n",
      " [0. 0. 0.]]\n",
      "\n",
      "[[1. 1.]\n",
      " [1. 1.]\n",
      " [1. 1.]]\n",
      "\n",
      "[0 2 4 6 8]\n",
      "\n",
      "[0.   0.25 0.5  0.75 1.  ]\n"
     ]
    }
   ],
   "source": [
    "print(np.zeros((2, 3)))  \n",
    "print(\"\")\n",
    "print(np.ones((3, 2)))  \n",
    "print(\"\")\n",
    "print(np.arange(0, 10, 2))\n",
    "print(\"\")\n",
    "print(np.linspace(0, 1, 5))"
   ]
  },
  {
   "cell_type": "markdown",
   "id": "d1a1c3e9",
   "metadata": {},
   "source": [
    "## 7. Aggregate Functions"
   ]
  },
  {
   "cell_type": "code",
   "execution_count": 12,
   "id": "e3059c92",
   "metadata": {},
   "outputs": [
    {
     "ename": "NameError",
     "evalue": "name 'arr' is not defined",
     "output_type": "error",
     "traceback": [
      "\u001b[1;31m---------------------------------------------------------------------------\u001b[0m",
      "\u001b[1;31mNameError\u001b[0m                                 Traceback (most recent call last)",
      "Cell \u001b[1;32mIn[12], line 3\u001b[0m\n\u001b[0;32m      1\u001b[0m \u001b[38;5;66;03m# arr = np.array([1, 2, 3, 4])\u001b[39;00m\n\u001b[1;32m----> 3\u001b[0m \u001b[38;5;28mprint\u001b[39m(arr\u001b[38;5;241m.\u001b[39msum())\n\u001b[0;32m      4\u001b[0m \u001b[38;5;28mprint\u001b[39m(\u001b[38;5;124m\"\u001b[39m\u001b[38;5;124m\"\u001b[39m)\n\u001b[0;32m      5\u001b[0m \u001b[38;5;28mprint\u001b[39m(arr\u001b[38;5;241m.\u001b[39mmean())\n",
      "\u001b[1;31mNameError\u001b[0m: name 'arr' is not defined"
     ]
    }
   ],
   "source": [
    "# arr = np.array([1, 2, 3, 4])\n",
    "\n",
    "print(arr.sum())\n",
    "print(\"\")\n",
    "print(arr.mean())\n",
    "print(\"\")\n",
    "print(arr.std())\n",
    "print(\"\")\n",
    "print(arr.max())\n",
    "print(\"\")\n",
    "print(arr.min())\n",
    "print(\"\")"
   ]
  },
  {
   "cell_type": "markdown",
   "id": "b3ac3ed4",
   "metadata": {},
   "source": [
    "## 8. Useful Utilities"
   ]
  },
  {
   "cell_type": "markdown",
   "id": "217308c7",
   "metadata": {},
   "source": [
    "# Advanced NumPy"
   ]
  },
  {
   "cell_type": "markdown",
   "id": "fcded566",
   "metadata": {},
   "source": [
    "## 1. Boolean Indexing & Masking"
   ]
  },
  {
   "cell_type": "code",
   "execution_count": null,
   "id": "a3c53695",
   "metadata": {},
   "outputs": [],
   "source": [
    "arr = np.array([1, 2, 3, 4])\n",
    "arr[arr > 2]    "
   ]
  },
  {
   "cell_type": "markdown",
   "id": "61c08c82",
   "metadata": {},
   "source": [
    "## 2. Fancy Indexing"
   ]
  },
  {
   "cell_type": "code",
   "execution_count": null,
   "id": "4a977372",
   "metadata": {},
   "outputs": [],
   "source": [
    "arr = np.array([10, 20, 30, 40])\n",
    "arr[[0, 2]]      "
   ]
  },
  {
   "cell_type": "markdown",
   "id": "8390cb9b",
   "metadata": {},
   "source": [
    "## 3. Advanced Broadcasting"
   ]
  },
  {
   "cell_type": "code",
   "execution_count": null,
   "id": "f2deb9f0",
   "metadata": {},
   "outputs": [],
   "source": [
    "a = np.array([[1], [2], [3]])  # Shape (3,1)\n",
    "b = np.array([10, 20, 30])     # Shape (3,)\n",
    "a + b                         "
   ]
  },
  {
   "cell_type": "markdown",
   "id": "49f874ab",
   "metadata": {},
   "source": [
    "## 4. Axis Manipulation"
   ]
  },
  {
   "cell_type": "code",
   "execution_count": null,
   "id": "8b70c517",
   "metadata": {},
   "outputs": [],
   "source": [
    "arr = np.array([[1, 2], [3, 4]])\n",
    "arr.sum(axis=0)     # [4, 6] → column-wise"
   ]
  },
  {
   "cell_type": "code",
   "execution_count": null,
   "id": "497288b9",
   "metadata": {},
   "outputs": [],
   "source": [
    "arr.sum(axis=1)     # [3, 7] → row-wise"
   ]
  },
  {
   "cell_type": "markdown",
   "id": "5218d932",
   "metadata": {},
   "source": [
    "## 5. Vectorization vs Loops (Speed Boosting)"
   ]
  },
  {
   "cell_type": "code",
   "execution_count": null,
   "id": "d5b02412",
   "metadata": {},
   "outputs": [],
   "source": [
    "#Use NumPy instead of loops for speed:\n",
    "\n",
    "# Slow way\n",
    "[math.sqrt(i) for i in range(1000)]"
   ]
  },
  {
   "cell_type": "code",
   "execution_count": null,
   "id": "94eb25f7",
   "metadata": {},
   "outputs": [],
   "source": [
    "# Fast NumPy way\n",
    "np.sqrt(np.arange(1000))"
   ]
  },
  {
   "cell_type": "markdown",
   "id": "c6f6f9c9",
   "metadata": {},
   "source": [
    "## 6. Broadcasting Rules"
   ]
  },
  {
   "cell_type": "raw",
   "id": "6c4b2705",
   "metadata": {},
   "source": [
    "(3,1) + (1,4) → (3,4)"
   ]
  },
  {
   "cell_type": "markdown",
   "id": "896a708a",
   "metadata": {},
   "source": [
    "## 7. Memory Views vs Copies"
   ]
  },
  {
   "cell_type": "code",
   "execution_count": null,
   "id": "20ec5789",
   "metadata": {},
   "outputs": [],
   "source": [
    "a = np.array([1, 2, 3])\n",
    "b = a.view()\n",
    "b[0] = 100       # Also changes a[0]!"
   ]
  },
  {
   "cell_type": "code",
   "execution_count": null,
   "id": "b2eaabbe",
   "metadata": {},
   "outputs": [],
   "source": [
    "print(b)"
   ]
  }
 ],
 "metadata": {
  "kernelspec": {
   "display_name": "Python 3 (ipykernel)",
   "language": "python",
   "name": "python3"
  },
  "language_info": {
   "codemirror_mode": {
    "name": "ipython",
    "version": 3
   },
   "file_extension": ".py",
   "mimetype": "text/x-python",
   "name": "python",
   "nbconvert_exporter": "python",
   "pygments_lexer": "ipython3",
   "version": "3.11.5"
  }
 },
 "nbformat": 4,
 "nbformat_minor": 5
}
