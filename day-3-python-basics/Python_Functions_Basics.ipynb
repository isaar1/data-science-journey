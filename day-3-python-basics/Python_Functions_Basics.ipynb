{
 "cells": [
  {
   "cell_type": "markdown",
   "id": "16f2aef9",
   "metadata": {},
   "source": [
    "# 1️⃣ What is a Function?\n",
    "A function is a block of code that runs only when it is called."
   ]
  },
  {
   "cell_type": "code",
   "execution_count": 1,
   "id": "515a3f4e",
   "metadata": {},
   "outputs": [
    {
     "name": "stdout",
     "output_type": "stream",
     "text": [
      "Hello, Isaar!\n"
     ]
    }
   ],
   "source": [
    "# Example: Simple Function\n",
    "\n",
    "def greet(name):\n",
    "    return f\"Hello, {name}!\"\n",
    "\n",
    "print(greet(\"Isaar\"))"
   ]
  },
  {
   "cell_type": "code",
   "execution_count": 2,
   "id": "4e3e3fe4",
   "metadata": {},
   "outputs": [
    {
     "name": "stdout",
     "output_type": "stream",
     "text": [
      "50\n"
     ]
    }
   ],
   "source": [
    "# ✅ Task 1: Function to Calculate Area\n",
    "\n",
    "def calculate_area(length, width):\n",
    "    return length * width\n",
    "\n",
    "print(calculate_area(5, 10)) "
   ]
  },
  {
   "cell_type": "markdown",
   "id": "55f2fc71",
   "metadata": {},
   "source": [
    "# 2️⃣ Types of Function Arguments"
   ]
  },
  {
   "cell_type": "code",
   "execution_count": 3,
   "id": "65ce3cc5",
   "metadata": {},
   "outputs": [
    {
     "name": "stdout",
     "output_type": "stream",
     "text": [
      "8\n"
     ]
    }
   ],
   "source": [
    "# 1️⃣ Positional Arguments (order matters)\n",
    "\n",
    "def add(a, b):\n",
    "    return a + b\n",
    "\n",
    "print(add(5, 3)) "
   ]
  },
  {
   "cell_type": "code",
   "execution_count": 4,
   "id": "739d06c6",
   "metadata": {},
   "outputs": [
    {
     "name": "stdout",
     "output_type": "stream",
     "text": [
      "Hello, Guest!\n",
      "Hello, Bob!\n"
     ]
    }
   ],
   "source": [
    "# 2️⃣ Default Arguments (set a default value)\n",
    "\n",
    "def greet(name=\"Guest\"):\n",
    "    return f\"Hello, {name}!\"\n",
    "\n",
    "print(greet())       \n",
    "print(greet(\"Bob\"))  "
   ]
  },
  {
   "cell_type": "code",
   "execution_count": 5,
   "id": "b9751886",
   "metadata": {},
   "outputs": [
    {
     "name": "stdout",
     "output_type": "stream",
     "text": [
      "My name is Alice and I am 25 years old.\n"
     ]
    }
   ],
   "source": [
    "# 3️⃣ Keyword Arguments (explicit parameter names)\n",
    "\n",
    "def introduce(name, age):\n",
    "    print(f\"My name is {name} and I am {age} years old.\")\n",
    "\n",
    "introduce(age=25, name=\"Alice\")"
   ]
  },
  {
   "cell_type": "code",
   "execution_count": 6,
   "id": "89b425da",
   "metadata": {},
   "outputs": [
    {
     "name": "stdout",
     "output_type": "stream",
     "text": [
      "15\n"
     ]
    }
   ],
   "source": [
    "# 4️⃣ Arbitrary Arguments (*args) (multiple values)\n",
    "\n",
    "def sum_all(*numbers):\n",
    "    return sum(numbers)\n",
    "\n",
    "print(sum_all(1, 2, 3, 4, 5)) "
   ]
  },
  {
   "cell_type": "code",
   "execution_count": 7,
   "id": "50339883",
   "metadata": {},
   "outputs": [
    {
     "name": "stdout",
     "output_type": "stream",
     "text": [
      "9\n",
      "8\n"
     ]
    }
   ],
   "source": [
    "# ✅ Task 2: Function with Default Arguments\n",
    "\n",
    "def power(base, exponent=2):\n",
    "    return base ** exponent\n",
    "\n",
    "print(power(3))     \n",
    "print(power(2, 3))  "
   ]
  },
  {
   "cell_type": "markdown",
   "id": "f3a6f8ac",
   "metadata": {},
   "source": [
    "# 3️⃣ What is a Lambda Function?\n",
    "A lambda function is an anonymous function (no name)."
   ]
  },
  {
   "cell_type": "code",
   "execution_count": 8,
   "id": "3ba87fdd",
   "metadata": {},
   "outputs": [
    {
     "name": "stdout",
     "output_type": "stream",
     "text": [
      "25\n"
     ]
    }
   ],
   "source": [
    "# example\n",
    "\n",
    "square = lambda x: x ** 2\n",
    "print(square(5))  "
   ]
  },
  {
   "cell_type": "code",
   "execution_count": 9,
   "id": "f84626a6",
   "metadata": {},
   "outputs": [
    {
     "name": "stdout",
     "output_type": "stream",
     "text": [
      "10\n"
     ]
    }
   ],
   "source": [
    "# Lambda with Two Arguments\n",
    "\n",
    "add = lambda x, y: x + y\n",
    "print(add(3, 7))  "
   ]
  },
  {
   "cell_type": "code",
   "execution_count": 10,
   "id": "6776df2b",
   "metadata": {},
   "outputs": [
    {
     "name": "stdout",
     "output_type": "stream",
     "text": [
      "20\n"
     ]
    }
   ],
   "source": [
    "# ✅ Task 3: Lambda Function to Multiply Two Numbers\n",
    "\n",
    "multiply = lambda x, y: x * y\n",
    "print(multiply(4, 5))  "
   ]
  },
  {
   "cell_type": "markdown",
   "id": "86073675",
   "metadata": {},
   "source": [
    "# 4️⃣ map(): Apply a function to a list"
   ]
  },
  {
   "cell_type": "code",
   "execution_count": 11,
   "id": "55015295",
   "metadata": {},
   "outputs": [
    {
     "name": "stdout",
     "output_type": "stream",
     "text": [
      "[1, 4, 9, 16, 25]\n"
     ]
    }
   ],
   "source": [
    "numbers = [1, 2, 3, 4, 5]\n",
    "squared = list(map(lambda x: x ** 2, numbers))\n",
    "print(squared)  "
   ]
  },
  {
   "cell_type": "code",
   "execution_count": 12,
   "id": "2a06d8e4",
   "metadata": {},
   "outputs": [
    {
     "name": "stdout",
     "output_type": "stream",
     "text": [
      "[32.0, 50.0, 68.0, 86.0, 104.0]\n"
     ]
    }
   ],
   "source": [
    "# ✅ Task 4: Use map() to Convert Celsius to Fahrenheit\n",
    "\n",
    "celsius = [0, 10, 20, 30, 40]\n",
    "fahrenheit = list(map(lambda c: (c * 9/5) + 32, celsius))\n",
    "\n",
    "print(fahrenheit)  "
   ]
  },
  {
   "cell_type": "markdown",
   "id": "c3e94ffe",
   "metadata": {},
   "source": [
    "# 5️⃣ filter(): Keep only the elements that match a condition"
   ]
  },
  {
   "cell_type": "code",
   "execution_count": 13,
   "id": "b6d51ede",
   "metadata": {},
   "outputs": [
    {
     "name": "stdout",
     "output_type": "stream",
     "text": [
      "[2, 4, 6, 8]\n"
     ]
    }
   ],
   "source": [
    "numbers = [1, 2, 3, 4, 5, 6, 7, 8, 9]\n",
    "even_numbers = list(filter(lambda x: x % 2 == 0, numbers))\n",
    "print(even_numbers) "
   ]
  },
  {
   "cell_type": "code",
   "execution_count": 14,
   "id": "3b9a7e7c",
   "metadata": {},
   "outputs": [
    {
     "name": "stdout",
     "output_type": "stream",
     "text": [
      "['Python', 'Science', 'Machine', 'Learning']\n"
     ]
    }
   ],
   "source": [
    "# ✅ Task 5: Use filter() to Get Words with More than 5 Letters\n",
    "\n",
    "words = [\"Python\", \"Data\", \"Science\", \"Machine\", \"AI\", \"Learning\"]\n",
    "long_words = list(filter(lambda word: len(word) > 5, words))\n",
    "\n",
    "print(long_words)  "
   ]
  },
  {
   "cell_type": "markdown",
   "id": "8632adf9",
   "metadata": {},
   "source": [
    "# 6️⃣ reduce(): Apply a function cumulatively (from functools)"
   ]
  },
  {
   "cell_type": "code",
   "execution_count": 15,
   "id": "17c82583",
   "metadata": {},
   "outputs": [
    {
     "name": "stdout",
     "output_type": "stream",
     "text": [
      "120\n"
     ]
    }
   ],
   "source": [
    "from functools import reduce\n",
    "\n",
    "numbers = [1, 2, 3, 4, 5]\n",
    "product = reduce(lambda x, y: x * y, numbers)\n",
    "print(product)  "
   ]
  },
  {
   "cell_type": "code",
   "execution_count": 16,
   "id": "ea2e53db",
   "metadata": {},
   "outputs": [
    {
     "name": "stdout",
     "output_type": "stream",
     "text": [
      "15\n"
     ]
    }
   ],
   "source": [
    "# ✅ Task 6: Use reduce() to Find the Sum of a List of Numbers\n",
    "\n",
    "from functools import reduce\n",
    "\n",
    "numbers = [1, 2, 3, 4, 5]\n",
    "sum_numbers = reduce(lambda x, y: x + y, numbers)\n",
    "\n",
    "print(sum_numbers)  "
   ]
  }
 ],
 "metadata": {
  "kernelspec": {
   "display_name": "Python 3 (ipykernel)",
   "language": "python",
   "name": "python3"
  },
  "language_info": {
   "codemirror_mode": {
    "name": "ipython",
    "version": 3
   },
   "file_extension": ".py",
   "mimetype": "text/x-python",
   "name": "python",
   "nbconvert_exporter": "python",
   "pygments_lexer": "ipython3",
   "version": "3.11.5"
  }
 },
 "nbformat": 4,
 "nbformat_minor": 5
}
