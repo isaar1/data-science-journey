{
 "cells": [
  {
   "cell_type": "markdown",
   "id": "032a38c5",
   "metadata": {},
   "source": [
    "# Mini Project – Data Processing with Functions"
   ]
  },
  {
   "cell_type": "markdown",
   "id": "0c946ebb",
   "metadata": {},
   "source": [
    "# 📌 Goal:\n",
    "\n",
    "## Read a CSV file\n",
    "\n",
    "## Use map() to transform data\n",
    "\n",
    "## Use filter() to clean data\n",
    "\n",
    "## Use reduce() to summarize data"
   ]
  },
  {
   "cell_type": "code",
   "execution_count": 1,
   "id": "3163030e",
   "metadata": {},
   "outputs": [],
   "source": [
    "import csv\n",
    "from functools import reduce"
   ]
  },
  {
   "cell_type": "code",
   "execution_count": 2,
   "id": "a5eedc58",
   "metadata": {},
   "outputs": [],
   "source": [
    "# Read CSV file\n",
    "with open('data.csv', 'r') as file:\n",
    "    reader = csv.reader(file)\n",
    "    data = list(reader)"
   ]
  },
  {
   "cell_type": "code",
   "execution_count": 3,
   "id": "de4aa68b",
   "metadata": {},
   "outputs": [],
   "source": [
    "# Convert string numbers to integers\n",
    "numbers = list(map(lambda x: int(x[0]), data))"
   ]
  },
  {
   "cell_type": "code",
   "execution_count": 5,
   "id": "d63e2818",
   "metadata": {},
   "outputs": [],
   "source": [
    "# Keep only numbers greater than 50\n",
    "filtered_numbers = list(filter(lambda x: x > 50, numbers))"
   ]
  },
  {
   "cell_type": "code",
   "execution_count": 9,
   "id": "ab733294",
   "metadata": {},
   "outputs": [
    {
     "name": "stdout",
     "output_type": "stream",
     "text": [
      "Sum of filtered numbers: 230\n"
     ]
    }
   ],
   "source": [
    "# Sum all numbers\n",
    "total_sum = reduce(lambda x, y: x + y, filtered_numbers)\n",
    "\n",
    "print(f\"Sum of filtered numbers: {total_sum}\")"
   ]
  },
  {
   "cell_type": "code",
   "execution_count": 10,
   "id": "a9bcfc25",
   "metadata": {},
   "outputs": [
    {
     "name": "stdout",
     "output_type": "stream",
     "text": [
      "Average of filtered numbers: 76.67\n"
     ]
    }
   ],
   "source": [
    "# Calculate average\n",
    "average = total_sum / len(filtered_numbers) if filtered_numbers else 0\n",
    "\n",
    "print(f\"Average of filtered numbers: {average:.2f}\")"
   ]
  }
 ],
 "metadata": {
  "kernelspec": {
   "display_name": "Python 3 (ipykernel)",
   "language": "python",
   "name": "python3"
  },
  "language_info": {
   "codemirror_mode": {
    "name": "ipython",
    "version": 3
   },
   "file_extension": ".py",
   "mimetype": "text/x-python",
   "name": "python",
   "nbconvert_exporter": "python",
   "pygments_lexer": "ipython3",
   "version": "3.11.5"
  }
 },
 "nbformat": 4,
 "nbformat_minor": 5
}
